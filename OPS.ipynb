{
 "cells": [
  {
   "cell_type": "code",
   "execution_count": 2,
   "id": "db790aa1-8f44-4568-9ed8-48a8fd2d9e78",
   "metadata": {},
   "outputs": [
    {
     "data": {
      "text/plain": [
       "'OOPS'"
      ]
     },
     "execution_count": 2,
     "metadata": {},
     "output_type": "execute_result"
    }
   ],
   "source": [
    "'''OOPS'''"
   ]
  },
  {
   "cell_type": "code",
   "execution_count": 3,
   "id": "f6e29e67-b823-4122-ae6b-e6bf0fe67628",
   "metadata": {},
   "outputs": [
    {
     "data": {
      "text/plain": [
       "\"1. What is a constructor in Python?\\nA constructor is a special method in Python that is automatically called when an object of a class is created. It's used to initialize the attributes of the object. \\xa0 \\n\\n2. Parameterless vs. Parameterized Constructors\\n\\nParameterless: Takes no arguments.\\nParameterized: Takes arguments to initialize attributes.\""
      ]
     },
     "execution_count": 3,
     "metadata": {},
     "output_type": "execute_result"
    }
   ],
   "source": [
    "'''1. What is a constructor in Python?\n",
    "A constructor is a special method in Python that is automatically called when an object of a class is created. It's used to initialize the attributes of the object.   \n",
    "\n",
    "2. Parameterless vs. Parameterized Constructors\n",
    "\n",
    "Parameterless: Takes no arguments.\n",
    "Parameterized: Takes arguments to initialize attributes.'''"
   ]
  },
  {
   "cell_type": "code",
   "execution_count": 5,
   "id": "0787397a-9142-4774-8aac-1a7e12a115c8",
   "metadata": {},
   "outputs": [
    {
     "data": {
      "text/plain": [
       "'class MyClass:\\n    def __init__(self):\\n'"
      ]
     },
     "execution_count": 5,
     "metadata": {},
     "output_type": "execute_result"
    }
   ],
   "source": [
    "'''class MyClass:\n",
    "    def __init__(self):\n",
    "'''"
   ]
  },
  {
   "cell_type": "code",
   "execution_count": 6,
   "id": "fea8cd67-8a2e-44c6-ad2e-dd862f4b4637",
   "metadata": {},
   "outputs": [
    {
     "data": {
      "text/plain": [
       "\"The __init__ method is the constructor in Python. It's automatically called when an object is created.\""
      ]
     },
     "execution_count": 6,
     "metadata": {},
     "output_type": "execute_result"
    }
   ],
   "source": [
    "'''The __init__ method is the constructor in Python. It's automatically called when an object is created.'''"
   ]
  },
  {
   "cell_type": "code",
   "execution_count": 7,
   "id": "52780a7c-b794-4910-a813-d3a2a2cf8e6d",
   "metadata": {},
   "outputs": [
    {
     "data": {
      "text/plain": [
       "'class Person:\\n    def __init__(self, name, age):\\n        self.name = name\\n        self.age = age\\n\\nperson1 = Person(\"Alice\", 30)'"
      ]
     },
     "execution_count": 7,
     "metadata": {},
     "output_type": "execute_result"
    }
   ],
   "source": [
    "'''class Person:\n",
    "    def __init__(self, name, age):\n",
    "        self.name = name\n",
    "        self.age = age\n",
    "\n",
    "person1 = Person(\"Alice\", 30)'''"
   ]
  },
  {
   "cell_type": "code",
   "execution_count": 8,
   "id": "ebd86501-cb8f-4330-8551-d00911eafff3",
   "metadata": {},
   "outputs": [
    {
     "data": {
      "text/plain": [
       "'person2 = Person.__init__(\"Bob\", 25)  # Not recommended'"
      ]
     },
     "execution_count": 8,
     "metadata": {},
     "output_type": "execute_result"
    }
   ],
   "source": [
    "'''person2 = Person.__init__(\"Bob\", 25)  # Not recommended'''"
   ]
  },
  {
   "cell_type": "code",
   "execution_count": 9,
   "id": "e970b24a-de23-46cd-b563-47c29f262cd3",
   "metadata": {},
   "outputs": [
    {
     "data": {
      "text/plain": [
       "\"7. self Parameter\\nself refers to the instance of the class being created. It's used to access and modify attributes.\\n\\n8. Default Constructors\\nA default constructor is a constructor with no arguments. It's used when no specific initialization is needed.\""
      ]
     },
     "execution_count": 9,
     "metadata": {},
     "output_type": "execute_result"
    }
   ],
   "source": [
    "'''7. self Parameter\n",
    "self refers to the instance of the class being created. It's used to access and modify attributes.\n",
    "\n",
    "8. Default Constructors\n",
    "A default constructor is a constructor with no arguments. It's used when no specific initialization is needed.'''"
   ]
  },
  {
   "cell_type": "code",
   "execution_count": 11,
   "id": "7447ba37-d20c-4908-ac9d-294b1f3cb723",
   "metadata": {},
   "outputs": [
    {
     "data": {
      "text/plain": [
       "'class Rectangle:\\n    def __init__(self, width, height):\\n        self.width = width\\n        self.height = height\\n\\n    def area(self):\\n        return self.width * self.height'"
      ]
     },
     "execution_count": 11,
     "metadata": {},
     "output_type": "execute_result"
    }
   ],
   "source": [
    "'''class Rectangle:\n",
    "    def __init__(self, width, height):\n",
    "        self.width = width\n",
    "        self.height = height\n",
    "\n",
    "    def area(self):\n",
    "        return self.width * self.height'''"
   ]
  },
  {
   "cell_type": "code",
   "execution_count": 12,
   "id": "72c11dde-e4c3-4106-85fb-5baf740887bf",
   "metadata": {},
   "outputs": [
    {
     "data": {
      "text/plain": [
       "'10. Multiple Constructors\\nNot possible in Python. Use optional arguments or different methods instead.\\n\\n11. Method Overloading\\nNot directly supported in Python. Use optional arguments or different methods.'"
      ]
     },
     "execution_count": 12,
     "metadata": {},
     "output_type": "execute_result"
    }
   ],
   "source": [
    "'''10. Multiple Constructors\n",
    "Not possible in Python. Use optional arguments or different methods instead.\n",
    "\n",
    "11. Method Overloading\n",
    "Not directly supported in Python. Use optional arguments or different methods.'''"
   ]
  },
  {
   "cell_type": "code",
   "execution_count": 14,
   "id": "c694aba8-366f-4f12-a6c0-53a99f700655",
   "metadata": {},
   "outputs": [
    {
     "data": {
      "text/plain": [
       "'class ChildClass(ParentClass):\\n    def __init__(self, arg1, arg2):\\n        super().__init__(arg1)\\n'"
      ]
     },
     "execution_count": 14,
     "metadata": {},
     "output_type": "execute_result"
    }
   ],
   "source": [
    "'''class ChildClass(ParentClass):\n",
    "    def __init__(self, arg1, arg2):\n",
    "        super().__init__(arg1)\n",
    "'''"
   ]
  },
  {
   "cell_type": "code",
   "execution_count": 15,
   "id": "c5583752-dd78-4460-a64c-5dca3f151649",
   "metadata": {},
   "outputs": [],
   "source": [
    "class Book:\n",
    "    def __init__(self, title, author, published_year):\n",
    "        self.title = title\n",
    "        self.author = author\n",
    "        self.published_year = published_year\n",
    "\n",
    "    def display_details(self):\n",
    "        print(f\"Title: {self.title}, Author: {self.author}, Published Year: {self.published_year}\")"
   ]
  },
  {
   "cell_type": "code",
   "execution_count": 16,
   "id": "1d570430-2748-4299-aeb4-da552dbf9d45",
   "metadata": {},
   "outputs": [
    {
     "data": {
      "text/plain": [
       "'14. Constructors vs. Regular Methods\\nConstructors are called automatically when an object is created, while regular methods can be called explicitly.\\n\\n15. self in Instance Variable Initialization\\nself is used to assign values to instance variables within the constructor.\\n\\n16. Preventing Multiple Instances\\nUse a class attribute to track the number of instances and raise an exception if it exceeds a limit. '"
      ]
     },
     "execution_count": 16,
     "metadata": {},
     "output_type": "execute_result"
    }
   ],
   "source": [
    "'''14. Constructors vs. Regular Methods\n",
    "Constructors are called automatically when an object is created, while regular methods can be called explicitly.\n",
    "\n",
    "15. self in Instance Variable Initialization\n",
    "self is used to assign values to instance variables within the constructor.\n",
    "\n",
    "16. Preventing Multiple Instances\n",
    "Use a class attribute to track the number of instances and raise an exception if it exceeds a limit. '''"
   ]
  },
  {
   "cell_type": "code",
   "execution_count": 17,
   "id": "e4f3ada8-bf5e-412e-a5c5-20f2ab06769c",
   "metadata": {},
   "outputs": [],
   "source": [
    "class Student:\n",
    "    def __init__(self, subjects):\n",
    "        self.subjects = subjects"
   ]
  },
  {
   "cell_type": "code",
   "execution_count": 18,
   "id": "7e5652bd-1072-4ac7-8d6d-4113705ba70d",
   "metadata": {},
   "outputs": [
    {
     "data": {
      "text/plain": [
       "\"18. __del__ Method\\nCalled when an object is deleted. It's often used for cleanup tasks like closing files or releasing resources.\\n\\n19. Constructor Chaining\\nCalling the constructor of a parent class from a child class's constructor . \""
      ]
     },
     "execution_count": 18,
     "metadata": {},
     "output_type": "execute_result"
    }
   ],
   "source": [
    "'''18. __del__ Method\n",
    "Called when an object is deleted. It's often used for cleanup tasks like closing files or releasing resources.\n",
    "\n",
    "19. Constructor Chaining\n",
    "Calling the constructor of a parent class from a child class's constructor . '''"
   ]
  },
  {
   "cell_type": "code",
   "execution_count": 19,
   "id": "8decadef-5464-472b-ad64-1c8c01f1e654",
   "metadata": {},
   "outputs": [],
   "source": [
    "class Car:\n",
    "    def __init__(self, make=\"Unknown\", model=\"Unknown\"):\n",
    "        self.make = make\n",
    "        self.model = model\n",
    "\n",
    "    def display_info(self):\n",
    "        print(f\"Make: {self.make}, Model: {self.model}\")"
   ]
  },
  {
   "cell_type": "code",
   "execution_count": 20,
   "id": "5ce62e27-ec8a-41c7-9fb6-133a3f0b0a89",
   "metadata": {},
   "outputs": [
    {
     "data": {
      "text/plain": [
       "'1. What is inheritance in Python?\\nInheritance is a mechanism in Python where a new class (child class) can inherit attributes and methods from an existing class (parent class). This promotes code reusability and creates a hierarchical relationship between classes.'"
      ]
     },
     "execution_count": 20,
     "metadata": {},
     "output_type": "execute_result"
    }
   ],
   "source": [
    "'''1. What is inheritance in Python?\n",
    "Inheritance is a mechanism in Python where a new class (child class) can inherit attributes and methods from an existing class (parent class). This promotes code reusability and creates a hierarchical relationship between classes.'''"
   ]
  },
  {
   "cell_type": "code",
   "execution_count": 21,
   "id": "dbbb33dc-9953-4347-b548-b1e87541583b",
   "metadata": {},
   "outputs": [
    {
     "data": {
      "text/plain": [
       "'class Animal:\\n    # ...\\nclass Dog(Animal):\\n    # ...'"
      ]
     },
     "execution_count": 21,
     "metadata": {},
     "output_type": "execute_result"
    }
   ],
   "source": [
    "'''class Animal:\n",
    "    # ...\n",
    "class Dog(Animal):\n",
    "    # ...'''"
   ]
  },
  {
   "cell_type": "code",
   "execution_count": 23,
   "id": "21b8e4e4-5b60-4af1-a056-80203ee47e99",
   "metadata": {},
   "outputs": [],
   "source": [
    "class Vehicle:\n",
    "    def __init__(self, color, speed):\n",
    "        self.color = color\n",
    "        self.speed = speed\n",
    "\n",
    "class Car(Vehicle):\n",
    "    def __init__(self, color, speed, brand):\n",
    "        super().__init__(color, speed)\n",
    "        self.brand = brand\n",
    "\n",
    "car1 = Car(\"Red\", 120, \"Toyota\")"
   ]
  },
  {
   "cell_type": "code",
   "execution_count": 25,
   "id": "e5a1f216-7d03-4f3f-8c5c-c281f54338ee",
   "metadata": {},
   "outputs": [],
   "source": [
    "class Animal:\n",
    "    def speak(self):\n",
    "        print(\"Generic animal sound\")\n",
    "\n",
    "class Dog(Animal):\n",
    "    def speak(self):\n",
    "        print(\"Woof!\")"
   ]
  },
  {
   "cell_type": "code",
   "execution_count": 26,
   "id": "0f3f6ebc-5aa4-445e-8635-dbe41a08eb0c",
   "metadata": {},
   "outputs": [
    {
     "ename": "NameError",
     "evalue": "name 'ParentClass' is not defined",
     "output_type": "error",
     "traceback": [
      "\u001b[1;31m---------------------------------------------------------------------------\u001b[0m",
      "\u001b[1;31mNameError\u001b[0m                                 Traceback (most recent call last)",
      "Cell \u001b[1;32mIn[26], line 1\u001b[0m\n\u001b[1;32m----> 1\u001b[0m \u001b[38;5;28;01mclass\u001b[39;00m \u001b[38;5;21;01mChildClass\u001b[39;00m(\u001b[43mParentClass\u001b[49m):\n\u001b[0;32m      2\u001b[0m     \u001b[38;5;28;01mdef\u001b[39;00m \u001b[38;5;21mchild_method\u001b[39m(\u001b[38;5;28mself\u001b[39m):\n\u001b[0;32m      3\u001b[0m         \u001b[38;5;28msuper\u001b[39m()\u001b[38;5;241m.\u001b[39mparent_method()\n",
      "\u001b[1;31mNameError\u001b[0m: name 'ParentClass' is not defined"
     ]
    }
   ],
   "source": [
    "class ChildClass(ParentClass):\n",
    "    def child_method(self):\n",
    "        super().parent_method()"
   ]
  },
  {
   "cell_type": "code",
   "execution_count": 27,
   "id": "d9e442aa-dc58-44ea-aab2-de3b613c8d0f",
   "metadata": {},
   "outputs": [
    {
     "data": {
      "text/plain": [
       "'class ChildClass(ParentClass):\\n    def __init__(self, arg1, arg2):\\n        super().__init__(arg1)\\n        # ...'"
      ]
     },
     "execution_count": 27,
     "metadata": {},
     "output_type": "execute_result"
    }
   ],
   "source": [
    "'''class ChildClass(ParentClass):\n",
    "    def __init__(self, arg1, arg2):\n",
    "        super().__init__(arg1)\n",
    "        # ...'''"
   ]
  },
  {
   "cell_type": "code",
   "execution_count": 28,
   "id": "83e6968f-e857-4add-92bc-a261798c334d",
   "metadata": {},
   "outputs": [
    {
     "data": {
      "text/plain": [
       "'class Animal:\\n    def speak(self):\\n        print(\"Generic animal sound\")\\n\\nclass Dog(Animal):\\n    def speak(self):\\n        print(\"Woof!\")\\n\\nclass Cat(Animal):\\n    def speak(self):\\n        print(\"Meow!\")\\n\\ndog = Dog()\\ncat = Cat()\\ndog.speak()\\ncat.speak() '"
      ]
     },
     "execution_count": 28,
     "metadata": {},
     "output_type": "execute_result"
    }
   ],
   "source": [
    "'''class Animal:\n",
    "    def speak(self):\n",
    "        print(\"Generic animal sound\")\n",
    "\n",
    "class Dog(Animal):\n",
    "    def speak(self):\n",
    "        print(\"Woof!\")\n",
    "\n",
    "class Cat(Animal):\n",
    "    def speak(self):\n",
    "        print(\"Meow!\")\n",
    "\n",
    "dog = Dog()\n",
    "cat = Cat()\n",
    "dog.speak()\n",
    "cat.speak() '''"
   ]
  },
  {
   "cell_type": "code",
   "execution_count": 29,
   "id": "830f700c-ab3e-41ea-baf1-e4328180b6eb",
   "metadata": {},
   "outputs": [
    {
     "data": {
      "text/plain": [
       "\"8. isinstance() Function\\nChecks if an object is an instance of a specific class or its subclasses.\\n\\n9. issubclass() Function\\nChecks if a class is a subclass of another class.\\n\\n10. Constructor Inheritance\\nConstructors are not inherited directly. Child classes can call the parent class's constructor using super(). \""
      ]
     },
     "execution_count": 29,
     "metadata": {},
     "output_type": "execute_result"
    }
   ],
   "source": [
    "'''8. isinstance() Function\n",
    "Checks if an object is an instance of a specific class or its subclasses.\n",
    "\n",
    "9. issubclass() Function\n",
    "Checks if a class is a subclass of another class.\n",
    "\n",
    "10. Constructor Inheritance\n",
    "Constructors are not inherited directly. Child classes can call the parent class's constructor using super(). '''"
   ]
  },
  {
   "cell_type": "code",
   "execution_count": 30,
   "id": "1df0c1a8-5bd9-4511-ab03-c85228db4d8b",
   "metadata": {},
   "outputs": [],
   "source": [
    "class Shape:\n",
    "    def area(self):\n",
    "        pass\n",
    "\n",
    "class Circle(Shape):\n",
    "    def __init__(self, radius):\n",
    "        self.radius = radius\n",
    "\n",
    "    def area(self):\n",
    "        return 3.14159 * self.radius**2\n",
    "\n",
    "class Rectangle(Shape):\n",
    "    def __init__(self, length, width):\n",
    "        self.length = length\n",
    "        self.width = width\n",
    "\n",
    "    def area(self):\n",
    "        return self.length * self.width"
   ]
  },
  {
   "cell_type": "code",
   "execution_count": 31,
   "id": "b7e61ad8-6f18-46c8-8cb3-e6a4b0e10403",
   "metadata": {},
   "outputs": [],
   "source": [
    "from abc import ABC, abstractmethod\n",
    "\n",
    "class Shape(ABC):\n",
    "    @abstractmethod\n",
    "    def area(self):\n",
    "        pass"
   ]
  },
  {
   "cell_type": "code",
   "execution_count": 33,
   "id": "71d79f57-4ed4-46e9-8ddf-72188f2d9dba",
   "metadata": {},
   "outputs": [
    {
     "data": {
      "text/plain": [
       "'13. Preventing Modification\\nUse @property decorator and setter methods to control attribute modification. '"
      ]
     },
     "execution_count": 33,
     "metadata": {},
     "output_type": "execute_result"
    }
   ],
   "source": [
    "'''13. Preventing Modification\n",
    "Use @property decorator and setter methods to control attribute modification. '''"
   ]
  },
  {
   "cell_type": "code",
   "execution_count": 34,
   "id": "20b1f532-300e-4892-8c3c-e716d3f6b900",
   "metadata": {},
   "outputs": [
    {
     "data": {
      "text/plain": [
       "'class Employee:\\n    def __init__(self, name, salary):\\n        self.name = name\\n        self.salary = salary\\n\\nclass Manager(Employee):\\n    def __init__(self, name, salary, department):\\n        super().__init__(name, salary)\\n        self.department = department '"
      ]
     },
     "execution_count": 34,
     "metadata": {},
     "output_type": "execute_result"
    }
   ],
   "source": [
    "'''class Employee:\n",
    "    def __init__(self, name, salary):\n",
    "        self.name = name\n",
    "        self.salary = salary\n",
    "\n",
    "class Manager(Employee):\n",
    "    def __init__(self, name, salary, department):\n",
    "        super().__init__(name, salary)\n",
    "        self.department = department '''"
   ]
  },
  {
   "cell_type": "code",
   "execution_count": 35,
   "id": "b92f0ffe-f618-4e96-9b99-09f0a56de0a4",
   "metadata": {},
   "outputs": [
    {
     "data": {
      "text/plain": [
       "\"15. Method Overloading vs. Overriding\\n\\nOverloading: Having multiple methods with the same name but different parameters (not supported in Python).\\nOverriding: Defining a method in a child class with the same name as a method in the parent class.\\n16. __init__() in Inheritance\\nUsed to initialize attributes of a child class. It often calls the parent class's constructor using super(). \""
      ]
     },
     "execution_count": 35,
     "metadata": {},
     "output_type": "execute_result"
    }
   ],
   "source": [
    "'''15. Method Overloading vs. Overriding\n",
    "\n",
    "Overloading: Having multiple methods with the same name but different parameters (not supported in Python).\n",
    "Overriding: Defining a method in a child class with the same name as a method in the parent class.\n",
    "16. __init__() in Inheritance\n",
    "Used to initialize attributes of a child class. It often calls the parent class's constructor using super(). '''"
   ]
  },
  {
   "cell_type": "code",
   "execution_count": 36,
   "id": "eea3aad5-191f-426d-9814-131411677cee",
   "metadata": {},
   "outputs": [],
   "source": [
    "class Bird:\n",
    "    def fly(self):\n",
    "        print(\"Flying...\")\n",
    "\n",
    "class Eagle(Bird):\n",
    "    def fly(self):\n",
    "        print(\"Soaring high...\")\n",
    "\n",
    "class Sparrow(Bird):\n",
    "    def fly(self):\n",
    "        print(\"Flapping wings...\")"
   ]
  },
  {
   "cell_type": "code",
   "execution_count": 37,
   "id": "e1f35c35-274b-4d4b-acf2-c1589882ae16",
   "metadata": {},
   "outputs": [
    {
     "data": {
      "text/plain": [
       "'18. Diamond Problem\\nOccurs when a class inherits from multiple parent classes that have a common ancestor. Python uses Method Resolution Order (MRO) to determine the order in which methods are searched.\\n\\n19. \"Is-a\" and \"Has-a\" Relationships\\n\\n\"Is-a\": A child class \"is a\" parent class (inheritance).\\n\"Has-a\": A class \"has a\" reference to another class (composition).'"
      ]
     },
     "execution_count": 37,
     "metadata": {},
     "output_type": "execute_result"
    }
   ],
   "source": [
    "'''18. Diamond Problem\n",
    "Occurs when a class inherits from multiple parent classes that have a common ancestor. Python uses Method Resolution Order (MRO) to determine the order in which methods are searched.\n",
    "\n",
    "19. \"Is-a\" and \"Has-a\" Relationships\n",
    "\n",
    "\"Is-a\": A child class \"is a\" parent class (inheritance).\n",
    "\"Has-a\": A class \"has a\" reference to another class (composition).'''"
   ]
  },
  {
   "cell_type": "code",
   "execution_count": 40,
   "id": "99982405-fd40-40fb-8e91-ec23bf132124",
   "metadata": {},
   "outputs": [
    {
     "data": {
      "text/plain": [
       "'class Person:\\n    def __init__(self, name, age):\\n        # ...\\n\\nclass Student(Person):\\n    def __init__(self, name, age, student_id):\\n        # ...\\n\\nclass Professor(Person):\\n    def __init__(self, name, age, department):\\n        # ... '"
      ]
     },
     "execution_count": 40,
     "metadata": {},
     "output_type": "execute_result"
    }
   ],
   "source": [
    "'''class Person:\n",
    "    def __init__(self, name, age):\n",
    "        # ...\n",
    "\n",
    "class Student(Person):\n",
    "    def __init__(self, name, age, student_id):\n",
    "        # ...\n",
    "\n",
    "class Professor(Person):\n",
    "    def __init__(self, name, age, department):\n",
    "        # ... '''"
   ]
  },
  {
   "cell_type": "code",
   "execution_count": 41,
   "id": "78a09717-a40d-4c01-b11c-f312e73c3f8d",
   "metadata": {},
   "outputs": [
    {
     "data": {
      "text/plain": [
       "\"1. Explain the concept of encapsulation in Python. What is its role in object-oriented programming?\\n\\nEncapsulation is a fundamental principle in object-oriented programming (OOP) that involves bundling data (attributes) and the methods (functions) that operate on that data within a single unit, typically a class. This helps to protect the internal state of an object from external interference and ensures that data is accessed and modified in a controlled manner.\\n\\n2. Describe the key principles of encapsulation, including access control and data hiding.\\n\\nThe key principles of encapsulation are:\\n\\nAccess control: This restricts direct access to an object's internal data, preventing unauthorized modifications or misuse.\\nData hiding: This ensures that an object's internal data is only accessible through well-defined methods, providing a level of abstraction and protecting the object's implementation details.\\n3. How can you achieve encapsulation in Python classes? Provide an example.\\n\\nYou can achieve encapsulation in Python classes by:\\n\\nUsing private attributes: Prefixing attribute names with double underscores (__) makes them private, restricting direct access from outside the class.\\nDefining getter and setter methods: Create public methods to access and modify private attributes indirectly, providing control over data manipulation. \""
      ]
     },
     "execution_count": 41,
     "metadata": {},
     "output_type": "execute_result"
    }
   ],
   "source": [
    "'''1. Explain the concept of encapsulation in Python. What is its role in object-oriented programming?\n",
    "\n",
    "Encapsulation is a fundamental principle in object-oriented programming (OOP) that involves bundling data (attributes) and the methods (functions) that operate on that data within a single unit, typically a class. This helps to protect the internal state of an object from external interference and ensures that data is accessed and modified in a controlled manner.\n",
    "\n",
    "2. Describe the key principles of encapsulation, including access control and data hiding.\n",
    "\n",
    "The key principles of encapsulation are:\n",
    "\n",
    "Access control: This restricts direct access to an object's internal data, preventing unauthorized modifications or misuse.\n",
    "Data hiding: This ensures that an object's internal data is only accessible through well-defined methods, providing a level of abstraction and protecting the object's implementation details.\n",
    "3. How can you achieve encapsulation in Python classes? Provide an example.\n",
    "\n",
    "You can achieve encapsulation in Python classes by:\n",
    "\n",
    "Using private attributes: Prefixing attribute names with double underscores (__) makes them private, restricting direct access from outside the class.\n",
    "Defining getter and setter methods: Create public methods to access and modify private attributes indirectly, providing control over data manipulation. '''"
   ]
  },
  {
   "cell_type": "code",
   "execution_count": 43,
   "id": "1be595cf-df56-4750-a621-8e8549326d4f",
   "metadata": {},
   "outputs": [],
   "source": [
    "class Person:\n",
    "    def __init__(self, name):\n",
    "        self.__name = name\n",
    "\n",
    "    def get_name(self):\n",
    "        return self.__name\n",
    "\n",
    "    def set_name(self, new_name):\n",
    "        self.__name = new_name"
   ]
  },
  {
   "cell_type": "code",
   "execution_count": 44,
   "id": "8cdacf4b-8c87-4d1d-9af7-38d1af2caf7e",
   "metadata": {},
   "outputs": [
    {
     "data": {
      "text/plain": [
       "\"Access Modifiers:\\n\\nPublic: Accessible from anywhere.\\nPrivate: Accessible only within the class.\\nProtected: Accessible within the class and its subclasses. \\xa0 \\nPython doesn't have strict protected access modifiers, but convention uses a single underscore (_) to indicate protected attributes. \""
      ]
     },
     "execution_count": 44,
     "metadata": {},
     "output_type": "execute_result"
    }
   ],
   "source": [
    "'''Access Modifiers:\n",
    "\n",
    "Public: Accessible from anywhere.\n",
    "Private: Accessible only within the class.\n",
    "Protected: Accessible within the class and its subclasses.   \n",
    "Python doesn't have strict protected access modifiers, but convention uses a single underscore (_) to indicate protected attributes. '''"
   ]
  },
  {
   "cell_type": "code",
   "execution_count": 45,
   "id": "1becc57d-de7e-4ec9-ba23-c42caaae3866",
   "metadata": {},
   "outputs": [],
   "source": [
    "class Person:\n",
    "    def __init__(self, name):\n",
    "        self.__name = name\n",
    "\n",
    "    def get_name(self):\n",
    "        return self.__name\n",
    "\n",
    "    def set_name(self, new_name):\n",
    "        self.__name = new_name"
   ]
  },
  {
   "cell_type": "code",
   "execution_count": 47,
   "id": "aaefad3b-598a-4a13-93e8-3a38079cdf31",
   "metadata": {},
   "outputs": [],
   "source": [
    "class BankAccount:\n",
    "    def __init__(self, balance):\n",
    "        self.__balance = balance\n",
    "\n",
    "    def get_balance(self):\n",
    "        return self.__balance\n",
    "\n",
    "    def deposit(self, amount):\n",
    "        if amount > 0:\n",
    "            self.__balance += amount"
   ]
  },
  {
   "cell_type": "code",
   "execution_count": 48,
   "id": "d52be5c7-75ee-4520-bcd6-5c339c3f8435",
   "metadata": {},
   "outputs": [
    {
     "data": {
      "text/plain": [
       "'Python automatically transforms private attribute names (starting with __) by adding the class name and an underscore. This prevents accidental external access.'"
      ]
     },
     "execution_count": 48,
     "metadata": {},
     "output_type": "execute_result"
    }
   ],
   "source": [
    "'''Python automatically transforms private attribute names (starting with __) by adding the class name and an underscore. This prevents accidental external access.'''"
   ]
  },
  {
   "cell_type": "code",
   "execution_count": 49,
   "id": "363122f7-5ca1-4891-8700-790869593dba",
   "metadata": {},
   "outputs": [],
   "source": [
    "class BankAccount:\n",
    "    def __init__(self, balance, account_number):\n",
    "        self.__balance = balance\n",
    "        self.__account_number = account_number\n",
    "\n",
    "    def deposit(self, amount):\n",
    "        if amount > 0:\n",
    "            self.__balance += amount\n",
    "\n",
    "    def withdraw(self, amount):\n",
    "        if amount > 0 and amount <= self.__balance:\n",
    "            self.__balance -= amount"
   ]
  },
  {
   "cell_type": "code",
   "execution_count": 50,
   "id": "99e19a67-de56-4ea4-9925-17d5159baaaf",
   "metadata": {},
   "outputs": [
    {
     "data": {
      "text/plain": [
       "'Advantages of Encapsulation:\\n\\nMaintainability: Encapsulated code is easier to understand, modify, and test.\\nSecurity: Data hiding protects sensitive information from unauthorized access.\\n'"
      ]
     },
     "execution_count": 50,
     "metadata": {},
     "output_type": "execute_result"
    }
   ],
   "source": [
    "'''Advantages of Encapsulation:\n",
    "\n",
    "Maintainability: Encapsulated code is easier to understand, modify, and test.\n",
    "Security: Data hiding protects sensitive information from unauthorized access.\n",
    "'''"
   ]
  },
  {
   "cell_type": "code",
   "execution_count": 51,
   "id": "b988cdb7-30ff-439a-a1bd-26b4864b7de0",
   "metadata": {},
   "outputs": [
    {
     "data": {
      "text/plain": [
       "'person = Person(\"Alice\")\\nprint(person._Person__name)  # Accesses the private __name attribute'"
      ]
     },
     "execution_count": 51,
     "metadata": {},
     "output_type": "execute_result"
    }
   ],
   "source": [
    "'''person = Person(\"Alice\")\n",
    "print(person._Person__name)  # Accesses the private __name attribute'''"
   ]
  },
  {
   "cell_type": "code",
   "execution_count": 53,
   "id": "e864efd6-7ae5-4743-ab79-13d80bb403b9",
   "metadata": {},
   "outputs": [],
   "source": [
    "class Person:\n",
    "    def __init__(self, name):\n",
    "        self.__name = name\n",
    "\n",
    "class Student(Person):\n",
    "    def __init__(self, name, student_id):\n",
    "        super().__init__(name)\n",
    "        self.__student_id = student_id\n",
    "\n",
    "class Teacher(Person):\n",
    "    def __init__(self, name, subject):\n",
    "        super().__init__(name)\n",
    "        self.__subject = subject\n",
    "\n",
    "class Course:\n",
    "    def __init__(self, course_name, teacher):\n",
    "        self.__course_name = course_name\n",
    "        self.__teacher = teacher\n",
    "        self.__students = []\n",
    "\n",
    "    def add_student(self, student):\n",
    "        self.__students.append(student)"
   ]
  },
  {
   "cell_type": "code",
   "execution_count": 55,
   "id": "1e298491-1eb7-444c-96f9-6c4caf0f13a2",
   "metadata": {},
   "outputs": [],
   "source": [
    "class Person:\n",
    "    def __init__(self, name):\n",
    "        self._name = name\n",
    "\n",
    "    @property\n",
    "    def name(self):\n",
    "        return self._name\n",
    "\n",
    "    @name.setter\n",
    "    def name(self, value):\n",
    "        self._name = value"
   ]
  },
  {
   "cell_type": "code",
   "execution_count": 56,
   "id": "7a7258e0-546f-4ece-97fa-00339cd1ecef",
   "metadata": {},
   "outputs": [],
   "source": [
    "class BankAccount:\n",
    "    def __init__(self, balance):\n",
    "        self.__balance = balance\n",
    "\n",
    "    def deposit(self, amount):\n",
    "        if amount > 0:\n",
    "            self.__balance += amount"
   ]
  },
  {
   "cell_type": "code",
   "execution_count": 57,
   "id": "8298fa21-21bb-4212-85ab-bbcba68b8702",
   "metadata": {},
   "outputs": [],
   "source": [
    "class Employee:\n",
    "    def __init__(self, salary, employee_id):\n",
    "        self.__salary = salary\n",
    "        self.__employee_id = employee_id\n",
    "\n",
    "    def calculate_bonus(self):\n",
    "        return self.__salary * 0.1  # Assuming 10% bonus"
   ]
  },
  {
   "cell_type": "code",
   "execution_count": 58,
   "id": "a9b5888e-df56-4180-ba7e-9096a8f53c93",
   "metadata": {},
   "outputs": [
    {
     "data": {
      "text/plain": [
       "'15. Accessors and Mutators\\nAccessors (getters) provide read-only access to attributes, while mutators (setters) allow controlled modification. They help maintain data integrity and prevent invalid values.\\n\\n16. Drawbacks of Encapsulation\\nIncreased complexity: Encapsulation can make code more complex, especially for simple classes.\\nPerformance overhead: Accessing attributes through getter and setter methods can slightly impact performance.\\nPotential for misuse: If not used carefully, encapsulation can lead to over-complexity or make code harder to understand. '"
      ]
     },
     "execution_count": 58,
     "metadata": {},
     "output_type": "execute_result"
    }
   ],
   "source": [
    "'''15. Accessors and Mutators\n",
    "Accessors (getters) provide read-only access to attributes, while mutators (setters) allow controlled modification. They help maintain data integrity and prevent invalid values.\n",
    "\n",
    "16. Drawbacks of Encapsulation\n",
    "Increased complexity: Encapsulation can make code more complex, especially for simple classes.\n",
    "Performance overhead: Accessing attributes through getter and setter methods can slightly impact performance.\n",
    "Potential for misuse: If not used carefully, encapsulation can lead to over-complexity or make code harder to understand. '''"
   ]
  },
  {
   "cell_type": "code",
   "execution_count": 60,
   "id": "7320caeb-0381-4182-ba09-00923e7e694d",
   "metadata": {},
   "outputs": [],
   "source": [
    "class LibraryBook:\n",
    "    def __init__(self, title, author):\n",
    "        self.__title = title\n",
    "        self.__author = author\n",
    "        self.__available = True\n",
    "\n",
    "    def is_available(self):\n",
    "        return self.__available\n",
    "\n",
    "    def borrow(self):\n",
    "        if self.__available:\n",
    "            self.__available = False\n",
    "\n",
    "    def return_book(self):\n",
    "        if not self.__available:\n",
    "            self.__available = True"
   ]
  },
  {
   "cell_type": "code",
   "execution_count": 61,
   "id": "6b4b3e9d-aab6-4bf3-8dd6-d6865ba24967",
   "metadata": {},
   "outputs": [
    {
     "data": {
      "text/plain": [
       "\"18. Code Reusability and Modularity\\nEncapsulation promotes code reusability by creating well-defined classes with encapsulated data and methods. This modularity makes code easier to maintain, test, and extend.\\n\\n19. Information Hiding\\nInformation hiding is the principle of concealing an object's internal implementation details. It ensures that changes to the implementation don't affect other parts of the code, improving maintainability and reducing coupling. \""
      ]
     },
     "execution_count": 61,
     "metadata": {},
     "output_type": "execute_result"
    }
   ],
   "source": [
    "'''18. Code Reusability and Modularity\n",
    "Encapsulation promotes code reusability by creating well-defined classes with encapsulated data and methods. This modularity makes code easier to maintain, test, and extend.\n",
    "\n",
    "19. Information Hiding\n",
    "Information hiding is the principle of concealing an object's internal implementation details. It ensures that changes to the implementation don't affect other parts of the code, improving maintainability and reducing coupling. '''"
   ]
  },
  {
   "cell_type": "code",
   "execution_count": 62,
   "id": "1bb8c3f9-c6eb-4305-a490-1522cb27b021",
   "metadata": {},
   "outputs": [],
   "source": [
    "class Customer:\n",
    "    def __init__(self, name, address, contact_info):\n",
    "        self.__name = name\n",
    "        self.__address = address\n",
    "        self.__contact_info = contact_info\n",
    "\n",
    "    def get_name(self):\n",
    "        return self.__name\n",
    "\n",
    "    def get_address(self):\n",
    "        return self.__address\n",
    "\n",
    "    def get_contact_info(self):\n",
    "        return self.__contact_info"
   ]
  },
  {
   "cell_type": "code",
   "execution_count": null,
   "id": "8d834160-849b-4e9e-9f9a-8aab08079e55",
   "metadata": {},
   "outputs": [],
   "source": []
  }
 ],
 "metadata": {
  "kernelspec": {
   "display_name": "Python 3 (ipykernel)",
   "language": "python",
   "name": "python3"
  },
  "language_info": {
   "codemirror_mode": {
    "name": "ipython",
    "version": 3
   },
   "file_extension": ".py",
   "mimetype": "text/x-python",
   "name": "python",
   "nbconvert_exporter": "python",
   "pygments_lexer": "ipython3",
   "version": "3.12.4"
  }
 },
 "nbformat": 4,
 "nbformat_minor": 5
}
